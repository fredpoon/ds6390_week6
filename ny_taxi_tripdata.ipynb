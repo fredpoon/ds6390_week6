{
 "cells": [
  {
   "cell_type": "markdown",
   "metadata": {},
   "source": [
    "# Plotting NY Taxi Trip Data\n",
    "I'm going to use folium to map latitude/longitude. I used Anaconda for the install. `conda install folium -c conda-forge`"
   ]
  },
  {
   "cell_type": "code",
   "execution_count": 2,
   "metadata": {},
   "outputs": [
    {
     "output_type": "stream",
     "name": "stdout",
     "text": "<class 'pandas.core.frame.DataFrame'>\nRangeIndex: 1494926 entries, 0 to 1494925\nData columns (total 21 columns):\n #   Column                 Non-Null Count    Dtype  \n---  ------                 --------------    -----  \n 0   VendorID               1494926 non-null  int64  \n 1   lpep_pickup_datetime   1494926 non-null  object \n 2   Lpep_dropoff_datetime  1494926 non-null  object \n 3   Store_and_fwd_flag     1494926 non-null  object \n 4   RateCodeID             1494926 non-null  int64  \n 5   Pickup_longitude       1494926 non-null  float64\n 6   Pickup_latitude        1494926 non-null  float64\n 7   Dropoff_longitude      1494926 non-null  float64\n 8   Dropoff_latitude       1494926 non-null  float64\n 9   Passenger_count        1494926 non-null  int64  \n 10  Trip_distance          1494926 non-null  float64\n 11  Fare_amount            1494926 non-null  float64\n 12  Extra                  1494926 non-null  float64\n 13  MTA_tax                1494926 non-null  float64\n 14  Tip_amount             1494926 non-null  float64\n 15  Tolls_amount           1494926 non-null  float64\n 16  Ehail_fee              0 non-null        float64\n 17  improvement_surcharge  1494926 non-null  float64\n 18  Total_amount           1494926 non-null  float64\n 19  Payment_type           1494926 non-null  int64  \n 20  Trip_type              1494922 non-null  float64\ndtypes: float64(14), int64(4), object(3)\nmemory usage: 239.5+ MB\n"
    }
   ],
   "source": [
    "# required libraries\n",
    "import pandas as pd\n",
    "import folium as fol\n",
    "\n",
    "# read and review dataset\n",
    "data = pd.read_csv('green_tripdata_2015-09.csv')\n",
    "data.info()"
   ]
  },
  {
   "cell_type": "code",
   "execution_count": 11,
   "metadata": {},
   "outputs": [],
   "source": [
    "# create a random_sample data because there are 1494926\n",
    "# i chose 1000 because it clusters very well.\n",
    "df = data.sample(n=1000)\n",
    "\n",
    "# reference: https://python-graph-gallery.com/313-bubble-map-with-folium/\n",
    "map = fol.Map(location=[40.7,-73.9])\n",
    "for i in range(0,len(df)):\n",
    "    fol.Circle(\n",
    "        location=[df.iloc[i]['Pickup_latitude'], df.iloc[i]['Pickup_longitude']],\n",
    "        radius=df.iloc[i]['Total_amount']*2,\n",
    "        color='red',\n",
    "    ).add_to(map)\n",
    "map.save('mymap.html')"
   ]
  }
 ],
 "metadata": {
  "language_info": {
   "codemirror_mode": {
    "name": "ipython",
    "version": 3
   },
   "file_extension": ".py",
   "mimetype": "text/x-python",
   "name": "python",
   "nbconvert_exporter": "python",
   "pygments_lexer": "ipython3",
   "version": "3.7.1-final"
  },
  "orig_nbformat": 2,
  "kernelspec": {
   "name": "python37164bitml1sumr2020condaf1b124117553466b89d65eb9c9f3513c",
   "display_name": "Python 3.7.1 64-bit ('ML1_Sumr2020': conda)"
  }
 },
 "nbformat": 4,
 "nbformat_minor": 2
}